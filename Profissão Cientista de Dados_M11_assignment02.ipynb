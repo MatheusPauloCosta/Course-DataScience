{
 "cells": [
  {
   "cell_type": "markdown",
   "metadata": {},
   "source": [
    "## Árvores de regressão - exercícios 02\n",
    "\n",
    "Este exercício será uma continuação do anterior, mesma base, mesmas variáveis - vamos tentar buscar a 'melhor árvore'.\n",
    "\n",
    "A descrição das variáveis está abaixo:"
   ]
  },
  {
   "cell_type": "markdown",
   "metadata": {},
   "source": [
    "| Variavel | Descrição|\n",
    "|-|-|\n",
    "|CRIM| taxa de crimes per-cápita da cidade | \n",
    "|ZN| proporção de terrenos residenciais zoneados para lotes com mais de 25.000 pés quadrados. |\n",
    "|INDUS| proporção de acres de negócios não varejistas por cidade |\n",
    "|CHAS |vale 1 se o terreno faz fronteira com o *Charles River*; 0 caso contrário |\n",
    "|NOX| Concentração de óxido nítrico (em partes por 10 milhões) |\n",
    "|RM| número médio de quartos por habitação |\n",
    "|AGE| proporção de unidades ocupadas pelo proprietário construídas antes de 1940 |\n",
    "|DIS| distâncias ponderadas até cinco centros de empregos de Boston |\n",
    "|RAD| índice de acessibilidade a rodovias radiais |\n",
    "|TAX| taxa de imposto sobre a propriedade de valor total por \\\\$10,000 |\n",
    "|PTRATIO| razão pupilo-professor da cidade |\n",
    "|B| $ 1000 (Bk - 0,63) ^ 2 $ onde Bk é a proporção de negros por cidade |\n",
    "|LSTAT| \\%status inferior da população |\n",
    "|MEDV| (variável resposta) Valor mediano das casas ocupadas pelo proprietário em US $ 1.000|"
   ]
  },
  {
   "cell_type": "code",
   "execution_count": 104,
   "metadata": {},
   "outputs": [],
   "source": [
    "import pandas as pd\n",
    "import seaborn as sns\n",
    "import matplotlib.pyplot as plt\n",
    "\n",
    "from sklearn import datasets\n",
    "from sklearn.tree import DecisionTreeRegressor\n",
    "from sklearn import tree\n",
    "from sklearn.model_selection import train_test_split\n",
    "from sklearn.metrics import mean_squared_error\n",
    "\n",
    "\n",
    "boston = datasets.load_boston()\n",
    "X = pd.DataFrame(boston.data, columns = boston.feature_names)\n",
    "y = pd.DataFrame(boston.target, columns = ['MEDV'])"
   ]
  },
  {
   "cell_type": "code",
   "execution_count": 105,
   "metadata": {},
   "outputs": [
    {
     "data": {
      "text/html": [
       "<div>\n",
       "<style scoped>\n",
       "    .dataframe tbody tr th:only-of-type {\n",
       "        vertical-align: middle;\n",
       "    }\n",
       "\n",
       "    .dataframe tbody tr th {\n",
       "        vertical-align: top;\n",
       "    }\n",
       "\n",
       "    .dataframe thead th {\n",
       "        text-align: right;\n",
       "    }\n",
       "</style>\n",
       "<table border=\"1\" class=\"dataframe\">\n",
       "  <thead>\n",
       "    <tr style=\"text-align: right;\">\n",
       "      <th></th>\n",
       "      <th>CRIM</th>\n",
       "      <th>ZN</th>\n",
       "      <th>INDUS</th>\n",
       "      <th>CHAS</th>\n",
       "      <th>NOX</th>\n",
       "      <th>RM</th>\n",
       "      <th>AGE</th>\n",
       "      <th>DIS</th>\n",
       "      <th>RAD</th>\n",
       "      <th>TAX</th>\n",
       "      <th>PTRATIO</th>\n",
       "      <th>B</th>\n",
       "      <th>LSTAT</th>\n",
       "    </tr>\n",
       "  </thead>\n",
       "  <tbody>\n",
       "    <tr>\n",
       "      <th>0</th>\n",
       "      <td>0.00632</td>\n",
       "      <td>18.0</td>\n",
       "      <td>2.31</td>\n",
       "      <td>0.0</td>\n",
       "      <td>0.538</td>\n",
       "      <td>6.575</td>\n",
       "      <td>65.2</td>\n",
       "      <td>4.0900</td>\n",
       "      <td>1.0</td>\n",
       "      <td>296.0</td>\n",
       "      <td>15.3</td>\n",
       "      <td>396.90</td>\n",
       "      <td>4.98</td>\n",
       "    </tr>\n",
       "    <tr>\n",
       "      <th>1</th>\n",
       "      <td>0.02731</td>\n",
       "      <td>0.0</td>\n",
       "      <td>7.07</td>\n",
       "      <td>0.0</td>\n",
       "      <td>0.469</td>\n",
       "      <td>6.421</td>\n",
       "      <td>78.9</td>\n",
       "      <td>4.9671</td>\n",
       "      <td>2.0</td>\n",
       "      <td>242.0</td>\n",
       "      <td>17.8</td>\n",
       "      <td>396.90</td>\n",
       "      <td>9.14</td>\n",
       "    </tr>\n",
       "    <tr>\n",
       "      <th>2</th>\n",
       "      <td>0.02729</td>\n",
       "      <td>0.0</td>\n",
       "      <td>7.07</td>\n",
       "      <td>0.0</td>\n",
       "      <td>0.469</td>\n",
       "      <td>7.185</td>\n",
       "      <td>61.1</td>\n",
       "      <td>4.9671</td>\n",
       "      <td>2.0</td>\n",
       "      <td>242.0</td>\n",
       "      <td>17.8</td>\n",
       "      <td>392.83</td>\n",
       "      <td>4.03</td>\n",
       "    </tr>\n",
       "    <tr>\n",
       "      <th>3</th>\n",
       "      <td>0.03237</td>\n",
       "      <td>0.0</td>\n",
       "      <td>2.18</td>\n",
       "      <td>0.0</td>\n",
       "      <td>0.458</td>\n",
       "      <td>6.998</td>\n",
       "      <td>45.8</td>\n",
       "      <td>6.0622</td>\n",
       "      <td>3.0</td>\n",
       "      <td>222.0</td>\n",
       "      <td>18.7</td>\n",
       "      <td>394.63</td>\n",
       "      <td>2.94</td>\n",
       "    </tr>\n",
       "    <tr>\n",
       "      <th>4</th>\n",
       "      <td>0.06905</td>\n",
       "      <td>0.0</td>\n",
       "      <td>2.18</td>\n",
       "      <td>0.0</td>\n",
       "      <td>0.458</td>\n",
       "      <td>7.147</td>\n",
       "      <td>54.2</td>\n",
       "      <td>6.0622</td>\n",
       "      <td>3.0</td>\n",
       "      <td>222.0</td>\n",
       "      <td>18.7</td>\n",
       "      <td>396.90</td>\n",
       "      <td>5.33</td>\n",
       "    </tr>\n",
       "  </tbody>\n",
       "</table>\n",
       "</div>"
      ],
      "text/plain": [
       "      CRIM    ZN  INDUS  CHAS    NOX     RM   AGE     DIS  RAD    TAX  \\\n",
       "0  0.00632  18.0   2.31   0.0  0.538  6.575  65.2  4.0900  1.0  296.0   \n",
       "1  0.02731   0.0   7.07   0.0  0.469  6.421  78.9  4.9671  2.0  242.0   \n",
       "2  0.02729   0.0   7.07   0.0  0.469  7.185  61.1  4.9671  2.0  242.0   \n",
       "3  0.03237   0.0   2.18   0.0  0.458  6.998  45.8  6.0622  3.0  222.0   \n",
       "4  0.06905   0.0   2.18   0.0  0.458  7.147  54.2  6.0622  3.0  222.0   \n",
       "\n",
       "   PTRATIO       B  LSTAT  \n",
       "0     15.3  396.90   4.98  \n",
       "1     17.8  396.90   9.14  \n",
       "2     17.8  392.83   4.03  \n",
       "3     18.7  394.63   2.94  \n",
       "4     18.7  396.90   5.33  "
      ]
     },
     "execution_count": 105,
     "metadata": {},
     "output_type": "execute_result"
    }
   ],
   "source": [
    "X.head()"
   ]
  },
  {
   "cell_type": "code",
   "execution_count": 106,
   "metadata": {},
   "outputs": [
    {
     "data": {
      "text/html": [
       "<div>\n",
       "<style scoped>\n",
       "    .dataframe tbody tr th:only-of-type {\n",
       "        vertical-align: middle;\n",
       "    }\n",
       "\n",
       "    .dataframe tbody tr th {\n",
       "        vertical-align: top;\n",
       "    }\n",
       "\n",
       "    .dataframe thead th {\n",
       "        text-align: right;\n",
       "    }\n",
       "</style>\n",
       "<table border=\"1\" class=\"dataframe\">\n",
       "  <thead>\n",
       "    <tr style=\"text-align: right;\">\n",
       "      <th></th>\n",
       "      <th>MEDV</th>\n",
       "    </tr>\n",
       "  </thead>\n",
       "  <tbody>\n",
       "    <tr>\n",
       "      <th>0</th>\n",
       "      <td>24.0</td>\n",
       "    </tr>\n",
       "    <tr>\n",
       "      <th>1</th>\n",
       "      <td>21.6</td>\n",
       "    </tr>\n",
       "    <tr>\n",
       "      <th>2</th>\n",
       "      <td>34.7</td>\n",
       "    </tr>\n",
       "    <tr>\n",
       "      <th>3</th>\n",
       "      <td>33.4</td>\n",
       "    </tr>\n",
       "    <tr>\n",
       "      <th>4</th>\n",
       "      <td>36.2</td>\n",
       "    </tr>\n",
       "  </tbody>\n",
       "</table>\n",
       "</div>"
      ],
      "text/plain": [
       "   MEDV\n",
       "0  24.0\n",
       "1  21.6\n",
       "2  34.7\n",
       "3  33.4\n",
       "4  36.2"
      ]
     },
     "execution_count": 106,
     "metadata": {},
     "output_type": "execute_result"
    }
   ],
   "source": [
    "y.head()"
   ]
  },
  {
   "cell_type": "markdown",
   "metadata": {},
   "source": [
    "### 1. Execute os passos do exercício anterior, até que você tenha uma árvore de regressão predizendo o valor do imóvel na base de treinamento."
   ]
  },
  {
   "cell_type": "code",
   "execution_count": 107,
   "metadata": {},
   "outputs": [
    {
     "name": "stdout",
     "output_type": "stream",
     "text": [
      "<class 'pandas.core.frame.DataFrame'>\n",
      "RangeIndex: 506 entries, 0 to 505\n",
      "Data columns (total 13 columns):\n",
      " #   Column   Non-Null Count  Dtype  \n",
      "---  ------   --------------  -----  \n",
      " 0   CRIM     506 non-null    float64\n",
      " 1   ZN       506 non-null    float64\n",
      " 2   INDUS    506 non-null    float64\n",
      " 3   CHAS     506 non-null    float64\n",
      " 4   NOX      506 non-null    float64\n",
      " 5   RM       506 non-null    float64\n",
      " 6   AGE      506 non-null    float64\n",
      " 7   DIS      506 non-null    float64\n",
      " 8   RAD      506 non-null    float64\n",
      " 9   TAX      506 non-null    float64\n",
      " 10  PTRATIO  506 non-null    float64\n",
      " 11  B        506 non-null    float64\n",
      " 12  LSTAT    506 non-null    float64\n",
      "dtypes: float64(13)\n",
      "memory usage: 51.5 KB\n"
     ]
    }
   ],
   "source": [
    "X.info()"
   ]
  },
  {
   "cell_type": "code",
   "execution_count": 108,
   "metadata": {},
   "outputs": [
    {
     "name": "stdout",
     "output_type": "stream",
     "text": [
      "<class 'pandas.core.frame.DataFrame'>\n",
      "RangeIndex: 506 entries, 0 to 505\n",
      "Data columns (total 1 columns):\n",
      " #   Column  Non-Null Count  Dtype  \n",
      "---  ------  --------------  -----  \n",
      " 0   MEDV    506 non-null    float64\n",
      "dtypes: float64(1)\n",
      "memory usage: 4.1 KB\n"
     ]
    }
   ],
   "source": [
    "y.info()"
   ]
  },
  {
   "cell_type": "code",
   "execution_count": 109,
   "metadata": {},
   "outputs": [],
   "source": [
    "#split the data in test and train\n",
    "X_train, X_test, y_train, y_test = train_test_split(X, y, test_size=0.2, random_state=100)"
   ]
  },
  {
   "cell_type": "code",
   "execution_count": 110,
   "metadata": {},
   "outputs": [
    {
     "data": {
      "text/plain": [
       "DecisionTreeRegressor(max_depth=3)"
      ]
     },
     "execution_count": 110,
     "metadata": {},
     "output_type": "execute_result"
    }
   ],
   "source": [
    "#train the decision tree\n",
    "regr = DecisionTreeRegressor(max_depth=3)\n",
    "\n",
    "regr.fit(X_train,y_train)"
   ]
  },
  {
   "cell_type": "code",
   "execution_count": 111,
   "metadata": {},
   "outputs": [
    {
     "name": "stdout",
     "output_type": "stream",
     "text": [
      "The R-squared of the tree with depth = 3 é: 0.81\n"
     ]
    }
   ],
   "source": [
    "# MSE training\n",
    "mse = regr.score(X_train, y_train)\n",
    "\n",
    "sentence = 'The R-squared of the tree with depth = {0} é: {1:.2f}'\n",
    "\n",
    "print(sentence.format(regr.get_depth(),mse))"
   ]
  },
  {
   "cell_type": "code",
   "execution_count": 112,
   "metadata": {},
   "outputs": [
    {
     "data": {
      "text/plain": [
       "0.7271838675865027"
      ]
     },
     "execution_count": 112,
     "metadata": {},
     "output_type": "execute_result"
    }
   ],
   "source": [
    "#pre-pruning\n",
    "regr = DecisionTreeRegressor(max_depth=3, min_samples_leaf=10)\n",
    "regr.fit(X_train, y_train)\n",
    "\n",
    "mse = regr.score(X_test, y_test)\n",
    "mse"
   ]
  },
  {
   "cell_type": "code",
   "execution_count": 113,
   "metadata": {},
   "outputs": [
    {
     "data": {
      "text/html": [
       "<div>\n",
       "<style scoped>\n",
       "    .dataframe tbody tr th:only-of-type {\n",
       "        vertical-align: middle;\n",
       "    }\n",
       "\n",
       "    .dataframe tbody tr th {\n",
       "        vertical-align: top;\n",
       "    }\n",
       "\n",
       "    .dataframe thead th {\n",
       "        text-align: right;\n",
       "    }\n",
       "</style>\n",
       "<table border=\"1\" class=\"dataframe\">\n",
       "  <thead>\n",
       "    <tr style=\"text-align: right;\">\n",
       "      <th>n_min</th>\n",
       "      <th>1</th>\n",
       "      <th>2</th>\n",
       "      <th>3</th>\n",
       "      <th>4</th>\n",
       "      <th>5</th>\n",
       "      <th>6</th>\n",
       "      <th>7</th>\n",
       "      <th>8</th>\n",
       "      <th>9</th>\n",
       "      <th>10</th>\n",
       "      <th>...</th>\n",
       "      <th>20</th>\n",
       "      <th>21</th>\n",
       "      <th>22</th>\n",
       "      <th>23</th>\n",
       "      <th>24</th>\n",
       "      <th>25</th>\n",
       "      <th>26</th>\n",
       "      <th>27</th>\n",
       "      <th>28</th>\n",
       "      <th>29</th>\n",
       "    </tr>\n",
       "    <tr>\n",
       "      <th>deep</th>\n",
       "      <th></th>\n",
       "      <th></th>\n",
       "      <th></th>\n",
       "      <th></th>\n",
       "      <th></th>\n",
       "      <th></th>\n",
       "      <th></th>\n",
       "      <th></th>\n",
       "      <th></th>\n",
       "      <th></th>\n",
       "      <th></th>\n",
       "      <th></th>\n",
       "      <th></th>\n",
       "      <th></th>\n",
       "      <th></th>\n",
       "      <th></th>\n",
       "      <th></th>\n",
       "      <th></th>\n",
       "      <th></th>\n",
       "      <th></th>\n",
       "      <th></th>\n",
       "    </tr>\n",
       "  </thead>\n",
       "  <tbody>\n",
       "    <tr>\n",
       "      <th>1</th>\n",
       "      <td>0.451534</td>\n",
       "      <td>0.451534</td>\n",
       "      <td>0.451534</td>\n",
       "      <td>0.451534</td>\n",
       "      <td>0.451534</td>\n",
       "      <td>0.451534</td>\n",
       "      <td>0.451534</td>\n",
       "      <td>0.451534</td>\n",
       "      <td>0.451534</td>\n",
       "      <td>0.451534</td>\n",
       "      <td>...</td>\n",
       "      <td>0.451534</td>\n",
       "      <td>0.451534</td>\n",
       "      <td>0.451534</td>\n",
       "      <td>0.451534</td>\n",
       "      <td>0.451534</td>\n",
       "      <td>0.451534</td>\n",
       "      <td>0.451534</td>\n",
       "      <td>0.451534</td>\n",
       "      <td>0.451534</td>\n",
       "      <td>0.451534</td>\n",
       "    </tr>\n",
       "    <tr>\n",
       "      <th>2</th>\n",
       "      <td>0.686270</td>\n",
       "      <td>0.686270</td>\n",
       "      <td>0.686270</td>\n",
       "      <td>0.686270</td>\n",
       "      <td>0.686270</td>\n",
       "      <td>0.686270</td>\n",
       "      <td>0.686270</td>\n",
       "      <td>0.686270</td>\n",
       "      <td>0.686270</td>\n",
       "      <td>0.686270</td>\n",
       "      <td>...</td>\n",
       "      <td>0.686270</td>\n",
       "      <td>0.686270</td>\n",
       "      <td>0.686270</td>\n",
       "      <td>0.686270</td>\n",
       "      <td>0.684357</td>\n",
       "      <td>0.682276</td>\n",
       "      <td>0.679585</td>\n",
       "      <td>0.621025</td>\n",
       "      <td>0.621121</td>\n",
       "      <td>0.621339</td>\n",
       "    </tr>\n",
       "    <tr>\n",
       "      <th>3</th>\n",
       "      <td>0.744836</td>\n",
       "      <td>0.746220</td>\n",
       "      <td>0.729629</td>\n",
       "      <td>0.703558</td>\n",
       "      <td>0.720633</td>\n",
       "      <td>0.727184</td>\n",
       "      <td>0.727184</td>\n",
       "      <td>0.727184</td>\n",
       "      <td>0.727184</td>\n",
       "      <td>0.727184</td>\n",
       "      <td>...</td>\n",
       "      <td>0.715018</td>\n",
       "      <td>0.715018</td>\n",
       "      <td>0.715018</td>\n",
       "      <td>0.715018</td>\n",
       "      <td>0.713105</td>\n",
       "      <td>0.711024</td>\n",
       "      <td>0.708333</td>\n",
       "      <td>0.649773</td>\n",
       "      <td>0.649869</td>\n",
       "      <td>0.650087</td>\n",
       "    </tr>\n",
       "    <tr>\n",
       "      <th>4</th>\n",
       "      <td>0.829393</td>\n",
       "      <td>0.788641</td>\n",
       "      <td>0.751150</td>\n",
       "      <td>0.717143</td>\n",
       "      <td>0.734284</td>\n",
       "      <td>0.724808</td>\n",
       "      <td>0.728137</td>\n",
       "      <td>0.773310</td>\n",
       "      <td>0.760104</td>\n",
       "      <td>0.756984</td>\n",
       "      <td>...</td>\n",
       "      <td>0.718277</td>\n",
       "      <td>0.719152</td>\n",
       "      <td>0.722055</td>\n",
       "      <td>0.741550</td>\n",
       "      <td>0.739637</td>\n",
       "      <td>0.737556</td>\n",
       "      <td>0.733725</td>\n",
       "      <td>0.663750</td>\n",
       "      <td>0.663845</td>\n",
       "      <td>0.661927</td>\n",
       "    </tr>\n",
       "    <tr>\n",
       "      <th>5</th>\n",
       "      <td>0.715706</td>\n",
       "      <td>0.780070</td>\n",
       "      <td>0.757976</td>\n",
       "      <td>0.724120</td>\n",
       "      <td>0.741061</td>\n",
       "      <td>0.755132</td>\n",
       "      <td>0.758461</td>\n",
       "      <td>0.791036</td>\n",
       "      <td>0.777133</td>\n",
       "      <td>0.772978</td>\n",
       "      <td>...</td>\n",
       "      <td>0.729738</td>\n",
       "      <td>0.730509</td>\n",
       "      <td>0.733251</td>\n",
       "      <td>0.751717</td>\n",
       "      <td>0.752640</td>\n",
       "      <td>0.756523</td>\n",
       "      <td>0.747241</td>\n",
       "      <td>0.673810</td>\n",
       "      <td>0.676667</td>\n",
       "      <td>0.670476</td>\n",
       "    </tr>\n",
       "    <tr>\n",
       "      <th>6</th>\n",
       "      <td>0.825131</td>\n",
       "      <td>0.792194</td>\n",
       "      <td>0.765643</td>\n",
       "      <td>0.732622</td>\n",
       "      <td>0.752090</td>\n",
       "      <td>0.749542</td>\n",
       "      <td>0.751001</td>\n",
       "      <td>0.787760</td>\n",
       "      <td>0.778872</td>\n",
       "      <td>0.773863</td>\n",
       "      <td>...</td>\n",
       "      <td>0.729997</td>\n",
       "      <td>0.730747</td>\n",
       "      <td>0.733817</td>\n",
       "      <td>0.752283</td>\n",
       "      <td>0.755385</td>\n",
       "      <td>0.757419</td>\n",
       "      <td>0.748036</td>\n",
       "      <td>0.674612</td>\n",
       "      <td>0.676819</td>\n",
       "      <td>0.670608</td>\n",
       "    </tr>\n",
       "    <tr>\n",
       "      <th>7</th>\n",
       "      <td>0.691790</td>\n",
       "      <td>0.772995</td>\n",
       "      <td>0.758335</td>\n",
       "      <td>0.730510</td>\n",
       "      <td>0.748871</td>\n",
       "      <td>0.758367</td>\n",
       "      <td>0.756009</td>\n",
       "      <td>0.786318</td>\n",
       "      <td>0.773878</td>\n",
       "      <td>0.769684</td>\n",
       "      <td>...</td>\n",
       "      <td>0.729447</td>\n",
       "      <td>0.730197</td>\n",
       "      <td>0.733314</td>\n",
       "      <td>0.752283</td>\n",
       "      <td>0.755385</td>\n",
       "      <td>0.757419</td>\n",
       "      <td>0.748036</td>\n",
       "      <td>0.674535</td>\n",
       "      <td>0.676819</td>\n",
       "      <td>0.670608</td>\n",
       "    </tr>\n",
       "  </tbody>\n",
       "</table>\n",
       "<p>7 rows × 29 columns</p>\n",
       "</div>"
      ],
      "text/plain": [
       "n_min        1         2         3         4         5         6         7   \\\n",
       "deep                                                                          \n",
       "1      0.451534  0.451534  0.451534  0.451534  0.451534  0.451534  0.451534   \n",
       "2      0.686270  0.686270  0.686270  0.686270  0.686270  0.686270  0.686270   \n",
       "3      0.744836  0.746220  0.729629  0.703558  0.720633  0.727184  0.727184   \n",
       "4      0.829393  0.788641  0.751150  0.717143  0.734284  0.724808  0.728137   \n",
       "5      0.715706  0.780070  0.757976  0.724120  0.741061  0.755132  0.758461   \n",
       "6      0.825131  0.792194  0.765643  0.732622  0.752090  0.749542  0.751001   \n",
       "7      0.691790  0.772995  0.758335  0.730510  0.748871  0.758367  0.756009   \n",
       "\n",
       "n_min        8         9         10  ...        20        21        22  \\\n",
       "deep                                 ...                                 \n",
       "1      0.451534  0.451534  0.451534  ...  0.451534  0.451534  0.451534   \n",
       "2      0.686270  0.686270  0.686270  ...  0.686270  0.686270  0.686270   \n",
       "3      0.727184  0.727184  0.727184  ...  0.715018  0.715018  0.715018   \n",
       "4      0.773310  0.760104  0.756984  ...  0.718277  0.719152  0.722055   \n",
       "5      0.791036  0.777133  0.772978  ...  0.729738  0.730509  0.733251   \n",
       "6      0.787760  0.778872  0.773863  ...  0.729997  0.730747  0.733817   \n",
       "7      0.786318  0.773878  0.769684  ...  0.729447  0.730197  0.733314   \n",
       "\n",
       "n_min        23        24        25        26        27        28        29  \n",
       "deep                                                                         \n",
       "1      0.451534  0.451534  0.451534  0.451534  0.451534  0.451534  0.451534  \n",
       "2      0.686270  0.684357  0.682276  0.679585  0.621025  0.621121  0.621339  \n",
       "3      0.715018  0.713105  0.711024  0.708333  0.649773  0.649869  0.650087  \n",
       "4      0.741550  0.739637  0.737556  0.733725  0.663750  0.663845  0.661927  \n",
       "5      0.751717  0.752640  0.756523  0.747241  0.673810  0.676667  0.670476  \n",
       "6      0.752283  0.755385  0.757419  0.748036  0.674612  0.676819  0.670608  \n",
       "7      0.752283  0.755385  0.757419  0.748036  0.674535  0.676819  0.670608  \n",
       "\n",
       "[7 rows x 29 columns]"
      ]
     },
     "execution_count": 113,
     "metadata": {},
     "output_type": "execute_result"
    },
    {
     "data": {
      "image/png": "[encoded data removed]",
      "text/plain": [
       "<Figure size 720x720 with 4 Axes>"
      ]
     },
     "metadata": {
      "needs_background": "light"
     },
     "output_type": "display_data"
    }
   ],
   "source": [
    "mses = []\n",
    "ind_i = []\n",
    "ind_j = []\n",
    "\n",
    "for i in range (1,8):\n",
    "    for j in range (1,30):\n",
    "        regr = DecisionTreeRegressor(max_depth=i, min_samples_leaf=j)\n",
    "        regr.fit(X_train, y_train)\n",
    "        mse = regr.score(X_test, y_test)\n",
    "        mses.append(mse)\n",
    "        ind_i.append(i)\n",
    "        ind_j.append(j)\n",
    "        \n",
    "df_mse = pd.DataFrame({'mses':mses, 'deep':ind_i, 'n_min':ind_j})\n",
    "sns.clustermap(df_mse.pivot(index='deep',\n",
    "              columns='n_min',\n",
    "              values='mses'))\n",
    "df_mse.pivot(index='deep',\n",
    "             columns='n_min',\n",
    "             values='mses')\n"
   ]
  },
  {
   "cell_type": "markdown",
   "metadata": {},
   "source": [
    "### 2.  Calcule o caminho indicado pelos CCP-alfas dessa árvore."
   ]
  },
  {
   "cell_type": "code",
   "execution_count": 114,
   "metadata": {},
   "outputs": [
    {
     "data": {
      "text/plain": [
       "{'ccp_alphas': array([0.00000000e+00, 1.93683877e-02, 1.02123555e-01, 3.25094943e-01,\n",
       "        5.28309112e-01, 8.39062463e-01, 2.27880399e+00, 3.17682550e+00,\n",
       "        3.31350908e+00, 1.50037757e+01, 3.67928068e+01]),\n",
       " 'impurities': array([18.92742731, 18.9467957 , 19.04891925, 19.37401419, 19.90232331,\n",
       "        20.74138577, 23.02018976, 26.19701526, 29.51052434, 44.51430005,\n",
       "        81.30710684])}"
      ]
     },
     "execution_count": 114,
     "metadata": {},
     "output_type": "execute_result"
    }
   ],
   "source": [
    "path = regr.cost_complexity_pruning_path(X_train, y_train)\n",
    "path"
   ]
  },
  {
   "cell_type": "code",
   "execution_count": 115,
   "metadata": {},
   "outputs": [
    {
     "data": {
      "text/plain": [
       "Text(0.5, 1.0, 'Relationship between Effective Alpha and Total Leaf Impurity')"
      ]
     },
     "execution_count": 115,
     "metadata": {},
     "output_type": "execute_result"
    },
    {
     "data": {
      "image/png": "[encoded data removed]",
      "text/plain": [
       "<Figure size 720x720 with 1 Axes>"
      ]
     },
     "metadata": {
      "needs_background": "light"
     },
     "output_type": "display_data"
    }
   ],
   "source": [
    "ccp_alphas, impurities = path.ccp_alphas, path.impurities\n",
    "\n",
    "plt.figure(figsize=(10,10))\n",
    "plt.plot(ccp_alphas,impurities)\n",
    "plt.xlabel(\"Effective alpha\")\n",
    "plt.ylabel(\"Total Leaf Impurity\")\n",
    "plt.title(\"Relationship between Effective Alpha and Total Leaf Impurity\")\n"
   ]
  },
  {
   "cell_type": "markdown",
   "metadata": {},
   "source": [
    "### 3. Paca cada valor de alpha obtido no item 2, treine uma árvore com o respectivo alfa, e guarde essa árvore em uma lista."
   ]
  },
  {
   "cell_type": "code",
   "execution_count": 116,
   "metadata": {},
   "outputs": [],
   "source": [
    "clfs = []\n",
    "\n",
    "for ccp_alpha in ccp_alphas:\n",
    "    clf = DecisionTreeRegressor(random_state=0, ccp_alpha=ccp_alpha)\n",
    "    clf.fit(X_train, y_train)\n",
    "    clfs.append(clf)"
   ]
  },
  {
   "cell_type": "code",
   "execution_count": 117,
   "metadata": {},
   "outputs": [
    {
     "data": {
      "text/plain": [
       "Text(0, 0.5, 'tree depth')"
      ]
     },
     "execution_count": 117,
     "metadata": {},
     "output_type": "execute_result"
    },
    {
     "data": {
      "image/png": "[encoded data removed]",
      "text/plain": [
       "<Figure size 720x432 with 1 Axes>"
      ]
     },
     "metadata": {
      "needs_background": "light"
     },
     "output_type": "display_data"
    }
   ],
   "source": [
    "tree_depths = [clf.tree_.max_depth for clf in clfs]\n",
    "\n",
    "plt.figure(figsize=(10,6))\n",
    "plt.plot(ccp_alphas[:-1],tree_depths[:-1])\n",
    "plt.xlabel('effective alpha')\n",
    "plt.ylabel('tree depth')"
   ]
  },
  {
   "cell_type": "markdown",
   "metadata": {},
   "source": [
    "### 4. Para cada árvore na lista, calcule o MSE da árvore."
   ]
  },
  {
   "cell_type": "code",
   "execution_count": 118,
   "metadata": {},
   "outputs": [],
   "source": [
    "train_scores = [mean_squared_error(y_train, clf.predict(X_train)) for clf in clfs]\n",
    "test_scores = [mean_squared_error(y_test, clf.predict(X_test)) for clf in clfs]"
   ]
  },
  {
   "cell_type": "markdown",
   "metadata": {},
   "source": [
    "### 5. Monte um gráfico do MSE pelo alpha, escolha um valor de alpha perto do ponto de mínimo do MSE"
   ]
  },
  {
   "cell_type": "code",
   "execution_count": 119,
   "metadata": {},
   "outputs": [
    {
     "data": {
      "image/png": "[encoded data removed]",
      "text/plain": [
       "<Figure size 1080x1080 with 1 Axes>"
      ]
     },
     "metadata": {
      "needs_background": "light"
     },
     "output_type": "display_data"
    }
   ],
   "source": [
    "fig, ax = plt.subplots(figsize=(15,15))\n",
    "\n",
    "ax.set_xlabel('alpha')\n",
    "ax.set_ylabel('MSE')\n",
    "\n",
    "ax.set_title('MSE x alpha')\n",
    "\n",
    "ax.plot(ccp_alphas[:-1], train_scores[:-1], marker='o', label='trein', drawstyle='steps-post')\n",
    "ax.plot(ccp_alphas[:-1], test_scores[:-1], marker='o', label='test', drawstyle='steps-post')\n",
    "\n",
    "ax.legend()\n",
    "plt.show()"
   ]
  },
  {
   "cell_type": "markdown",
   "metadata": {},
   "source": [
    "alpha value near to MSE min score is 2"
   ]
  },
  {
   "cell_type": "markdown",
   "metadata": {},
   "source": [
    "### 6. Calcule o R-quadrado dessa árvore encontrada no item acima"
   ]
  },
  {
   "cell_type": "code",
   "execution_count": 120,
   "metadata": {},
   "outputs": [
    {
     "name": "stdout",
     "output_type": "stream",
     "text": [
      "Deep:4\n",
      "R-squared test:0.71\n",
      "MSE test:27.85\n"
     ]
    }
   ],
   "source": [
    "final_tree = DecisionTreeRegressor(random_state=100, ccp_alpha=2)\n",
    "final_tree.fit(X_train, y_train)\n",
    "\n",
    "print(f'Deep:{final_tree.tree_.max_depth}')\n",
    "print(f'R-squared test:{final_tree.score(X_test, y_test):.2f}')\n",
    "print(f'MSE test:{mean_squared_error(y_test, final_tree.predict(X_test)):.2f}')"
   ]
  },
  {
   "cell_type": "markdown",
   "metadata": {},
   "source": [
    "### 7. Visualize esta árvore."
   ]
  },
  {
   "cell_type": "code",
   "execution_count": 121,
   "metadata": {},
   "outputs": [
    {
     "data": {
      "image/png": "[encoded data removed]",
      "text/plain": [
       "<Figure size 720x720 with 1 Axes>"
      ]
     },
     "metadata": {
      "needs_background": "light"
     },
     "output_type": "display_data"
    }
   ],
   "source": [
    "plt.rc('figure', figsize=(10,10))\n",
    "tp = tree.plot_tree(\n",
    "    final_tree,\n",
    "    feature_names=X.columns,\n",
    "    filled=True\n",
    ")"
   ]
  },
  {
   "cell_type": "code",
   "execution_count": null,
   "metadata": {},
   "outputs": [],
   "source": []
  }
 ],
 "metadata": {
  "kernelspec": {
   "display_name": "Python 3 (ipykernel)",
   "language": "python",
   "name": "python3"
  },
  "language_info": {
   "codemirror_mode": {
    "name": "ipython",
    "version": 3
   },
   "file_extension": ".py",
   "mimetype": "text/x-python",
   "name": "python",
   "nbconvert_exporter": "python",
   "pygments_lexer": "ipython3",
   "version": "3.9.7"
  }
 },
 "nbformat": 4,
 "nbformat_minor": 4
}
